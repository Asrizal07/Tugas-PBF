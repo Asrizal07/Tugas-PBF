{
  "nbformat": 4,
  "nbformat_minor": 0,
  "metadata": {
    "colab": {
      "provenance": []
    },
    "kernelspec": {
      "name": "python3",
      "display_name": "Python 3"
    },
    "language_info": {
      "name": "python"
    }
  },
  "cells": [
    {
      "cell_type": "code",
      "execution_count": 1,
      "metadata": {
        "colab": {
          "base_uri": "https://localhost:8080/"
        },
        "id": "kBfLFODeO4wQ",
        "outputId": "f75cd7ed-33b1-4820-8229-3326f43532d7"
      },
      "outputs": [
        {
          "output_type": "stream",
          "name": "stdout",
          "text": [
            "Enter a password (up to 100 characters): data science 123\n",
            "Encrypted password: Sf-Sc-T\\-Sc-QV-T[-Se-TQ+Sg-TV-Se-Sg-QV-Qg-Qh-Qi-\n"
          ]
        }
      ],
      "source": [
        "from functools import reduce\n",
        "\n",
        "def encrypt(char):\n",
        "    ascii_value = ord(char)\n",
        "    first_value = (ascii_value // 26) + 80\n",
        "    second_value = (ascii_value % 26) + 80\n",
        "    third_value = '+' if first_value > second_value else '-'\n",
        "    return chr(first_value) + chr(second_value) + third_value\n",
        "\n",
        "def encrypt_password(password):\n",
        "    return reduce(lambda acc, char: acc + encrypt(char), password, '')\n",
        "\n",
        "password = input(\"Enter a password (up to 100 characters): \")\n",
        "encrypted_password = encrypt_password(password)\n",
        "print(\"Encrypted password:\", encrypted_password)"
      ]
    }
  ]
}